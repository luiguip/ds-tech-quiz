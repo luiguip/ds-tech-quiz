{
  "nbformat": 4,
  "nbformat_minor": 0,
  "metadata": {
    "colab": {
      "name": "DS_Technical_Quiz.ipynb",
      "provenance": [],
      "collapsed_sections": [],
      "authorship_tag": "ABX9TyN9B8HoZ5L8pvgNVjad6EzV"
    },
    "kernelspec": {
      "name": "python3",
      "display_name": "Python 3"
    },
    "language_info": {
      "name": "python"
    }
  },
  "cells": [
    {
      "cell_type": "code",
      "source": [
        "from copy import copy\n",
        "from itertools import product\n",
        "from typing import Tuple, List, Dict\n",
        "from dataclasses import dataclass\n",
        "from collections import Counter\n",
        "from operator import itemgetter\n",
        "from math import sqrt\n",
        "\n",
        "import pandas as pd"
      ],
      "metadata": {
        "id": "yuw3Bb_9E6YN"
      },
      "execution_count": null,
      "outputs": []
    },
    {
      "cell_type": "markdown",
      "source": [
        "# 1. Consider the following game:\n",
        "\n",
        "The game board has 12 spaces. A moose starts on space 7, and a hunter on space 1. On each game\n",
        "turn a 6-sided die is rolled. On a result of 1 to 4, the moose moves that many spaces forward. On a\n",
        "result of 5 or 6, the hunter moves that many spaces forward. The moose wins if it reaches space\n",
        "12 (the final roll does not have to be exact, moving past space 12 is ok). The hunter wins if he\n",
        "catches the moose, in other words reaches the same or a higher space.\n",
        "What are the probabilities of winning for the moose and the hunter?"
      ],
      "metadata": {
        "id": "Dmled4CdTFEN"
      }
    },
    {
      "cell_type": "code",
      "source": [
        "def calculate_hunter_win(hunter,moose,turn):\n",
        "    if hunter >= moose:\n",
        "        return 1/6**turn\n",
        "    if moose >= 12:\n",
        "        return 0\n",
        "    probability = 0\n",
        "    for i in [1,2,3,4]:\n",
        "        probability += calculate_hunter_win(hunter,moose+i,turn+1)\n",
        "    for i in [5,6]:\n",
        "        probability += calculate_hunter_win(hunter+i,moose,turn+1)\n",
        "    return probability\n",
        "  \n",
        "def calculate_hunter_win_game():\n",
        "  return round(calculate_hunter_win(1,7,0), 4)\n",
        "\n",
        "p = calculate_hunter_win_game()\n",
        "print(f\"Hunter's win percentage: {p*100}%\")\n",
        "print(f\"Moose's win percentage: {(1-p)*100}%\")"
      ],
      "metadata": {
        "id": "ugWkAd9cdNrN",
        "colab": {
          "base_uri": "https://localhost:8080/"
        },
        "outputId": "1b4b45ce-fca4-4149-bbe7-b2c459024eef"
      },
      "execution_count": null,
      "outputs": [
        {
          "output_type": "stream",
          "name": "stdout",
          "text": [
            "Hunter's win percentage: 38.72%\n",
            "Moose's win percentage: 61.28%\n"
          ]
        }
      ]
    },
    {
      "cell_type": "markdown",
      "source": [
        "# 2. \n",
        "A set of numbers has an average of 100. And the largest element is 5 greater than 3 times the smallest element. Which element cannot be in the set?\n",
        "\n",
        "a) 30\n",
        "\n",
        "b) 80\n",
        "\n",
        "c) 154\n",
        "\n",
        "d) 120\n",
        "\n",
        "e) 50"
      ],
      "metadata": {
        "id": "_8rV6j6In-Iw"
      }
    },
    {
      "cell_type": "code",
      "source": [
        "def solve_two():\n",
        "  mean = 100\n",
        "  min = 30\n",
        "  max = 5 +3*min\n",
        "  print(f\"The answer is a, if the min value of the set is {min}, the max value is {max}. Which can't be true as the mean of the set is {mean}.\")\n",
        "solve_two()"
      ],
      "metadata": {
        "colab": {
          "base_uri": "https://localhost:8080/"
        },
        "id": "WRVllKTHSBqk",
        "outputId": "37ac36e5-0c22-434e-91fb-b0ee00f7f94d"
      },
      "execution_count": null,
      "outputs": [
        {
          "output_type": "stream",
          "name": "stdout",
          "text": [
            "The answer is a, if the min value of the set is 30, the max value is 95. Which can't be true as the mean of the set is 100.\n"
          ]
        }
      ]
    },
    {
      "cell_type": "markdown",
      "source": [
        "# 3. \n",
        "Given the sample: S = [1, 2, 3, 4, 1, 5, 2, 2, 3]. Compute the mean, mode, median, standard deviation and standard error."
      ],
      "metadata": {
        "id": "iR3jw72DqOGb"
      }
    },
    {
      "cell_type": "code",
      "source": [
        "calculate_mean = lambda s: round(sum(s) / len(s), 2)\n",
        "\n",
        "def calculate_median(s): \n",
        "  s_sorted = copy(s)\n",
        "  s_sorted.sort()\n",
        "  median_index = len(s_sorted) // 2\n",
        "  return float(s_sorted[median_index]) if len(s) % 2 != 0 \\\n",
        "    else calculate_mean(s_sorted[median_index-1:median_index + 1])\n",
        "\n",
        "def calculate_mode(s):\n",
        "  counters = Counter(s)\n",
        "  max_count = max(counters.most_common(), key=itemgetter(1))[1]\n",
        "  max_tuples = list(filter(lambda c: c[1] == max_count, counters.items()))\n",
        "  return [n for n, _ in max_tuples]\n",
        "\n",
        "calculate_variance = lambda s, mean: sum([(v - mean)**2 for v in s])/(len(s)-1)\n",
        "\n",
        "calculate_std = lambda s, mean: sqrt(calculate_variance(s, mean))\n",
        "\n",
        "calculate_stderr = lambda s, std: std / sqrt(len(s))\n",
        "s = [1,2,3,4,1,5,5,2,3]\n",
        "mean = calculate_mean(s)\n",
        "mode = calculate_mode(s)\n",
        "median = calculate_median(s)\n",
        "variance = round(calculate_variance(s, mean), 2)\n",
        "std = round(calculate_std(s, mean), 2)\n",
        "stderr = round(calculate_stderr(s, std), 2)\n",
        "print(f'mean: {mean}')\n",
        "print(f'mode: {mode}')\n",
        "print(f'median: {median}')\n",
        "print(f'variance: {variance}')\n",
        "print(f'standard deviation: {std}')\n",
        "print(f'standard deviation error: {stderr}')"
      ],
      "metadata": {
        "colab": {
          "base_uri": "https://localhost:8080/"
        },
        "id": "H1W5baAJp7lh",
        "outputId": "73502ed0-e493-489a-9a34-1730147cdb62"
      },
      "execution_count": null,
      "outputs": [
        {
          "output_type": "stream",
          "name": "stdout",
          "text": [
            "mean: 2.89\n",
            "mode: [1, 2, 3, 5]\n",
            "median: 3.0\n",
            "variance: 2.36\n",
            "standard deviation: 1.54\n",
            "standard deviation error: 0.51\n"
          ]
        }
      ]
    },
    {
      "cell_type": "code",
      "source": [
        "s_s = pd.Series(s)\n",
        "print(f'mean: {round(s_s.mean(), 2)}')\n",
        "print(f'mode: {s_s.mode().to_list()}')\n",
        "print(f'median: {s_s.median()}')\n",
        "print(f'variance: {round(s_s.var(), 2)}')\n",
        "print(f'standard deviation: {round(s_s.std(), 2)}')\n",
        "print(f'standard deviation error: {round(s_s.sem(), 2)}')"
      ],
      "metadata": {
        "colab": {
          "base_uri": "https://localhost:8080/"
        },
        "id": "iQuZdu5-NHSt",
        "outputId": "26d11280-b125-402a-fffa-c7798b29741f"
      },
      "execution_count": null,
      "outputs": [
        {
          "output_type": "stream",
          "name": "stdout",
          "text": [
            "mean: 2.89\n",
            "mode: [1, 2, 3, 5]\n",
            "median: 3.0\n",
            "variance: 2.36\n",
            "standard deviation: 1.54\n",
            "standard deviation error: 0.51\n"
          ]
        }
      ]
    },
    {
      "cell_type": "markdown",
      "source": [
        "# 4.\n",
        "There are 3 stores: A, B and C. 50% of customers buy at A and 30% at B. A marketing campaign is launched and the response rate is: 50% for A, 60% for B and 90% for C.\n",
        "\n",
        "a. What is the probability that a random customer didn’t respond to the campaign?\n",
        "\n",
        "b. What is the probability that a responder went to C?"
      ],
      "metadata": {
        "id": "iew7YxHAM7ye"
      }
    },
    {
      "cell_type": "code",
      "source": [
        "clothes_df = pd.DataFrame([[round(0.5, 2)], [round(0.6, 2)], [round(0.9, 2)]], columns=['percentage_mc'])\n",
        "p_none_respond = round((1 - clothes_df).prod()[0], 2)\n",
        "print(f\"Percentage of people that didn't respond to the campaign: {p_none_respond*100}%\")\n",
        "print(f\"Percentage of a responder that went to C is 0%, because 0% of consumers buy from C\")"
      ],
      "metadata": {
        "colab": {
          "base_uri": "https://localhost:8080/"
        },
        "id": "1qLsONlIzDOd",
        "outputId": "c9e18c45-9f27-4fcf-ed1f-bd43c319d40a"
      },
      "execution_count": null,
      "outputs": [
        {
          "output_type": "stream",
          "name": "stdout",
          "text": [
            "Percentage of people that didn't respond to the campaign: 2.0%\n",
            "Percentage of a responder that went to C is 0%, because 0% of consumers buy from C\n"
          ]
        }
      ]
    },
    {
      "cell_type": "markdown",
      "source": [
        "# 5.\n",
        "There is a box with 12 dice which all look the same. However there are actually three types of\n",
        "dice:\n",
        "\n",
        "a. 6 normal dice. The probability to get a 6 is 1/6 for each dice\n",
        "\n",
        "b. 3 biassed dice. The probability to get a 6 is 0.85\n",
        "\n",
        "c. 3 biassed dice. The probability to get a 6 is 0.05\n",
        "\n",
        "If you take a die from the box at random and roll it. Find the conditional probability that it\n",
        "is of type b. given that it gives a 6.\n"
      ],
      "metadata": {
        "id": "2KPrcB5icYsB"
      }
    },
    {
      "cell_type": "code",
      "source": [
        "dices_df = pd.DataFrame([[6, round(1/6, 2)], [3, round(0.85, 2)], [3, round(0.05, 2)]], columns=['number_of_dices', 'likelihood'])\n",
        "dices_df['unnorm'] = dices_df.number_of_dices * dices_df.likelihood\n",
        "prob_data = dices_df.unnorm.sum()\n",
        "dices_df['posterior'] = round(dices_df.unnorm / prob_data, 2)\n",
        "dices_df"
      ],
      "metadata": {
        "id": "s6NSMJRGcd7o",
        "colab": {
          "base_uri": "https://localhost:8080/",
          "height": 143
        },
        "outputId": "429d6287-ac31-44ab-c8bc-5786b100bea0"
      },
      "execution_count": null,
      "outputs": [
        {
          "output_type": "execute_result",
          "data": {
            "text/html": [
              "\n",
              "  <div id=\"df-0839247c-1bf6-4220-9fb0-4cdbb4fa0bb0\">\n",
              "    <div class=\"colab-df-container\">\n",
              "      <div>\n",
              "<style scoped>\n",
              "    .dataframe tbody tr th:only-of-type {\n",
              "        vertical-align: middle;\n",
              "    }\n",
              "\n",
              "    .dataframe tbody tr th {\n",
              "        vertical-align: top;\n",
              "    }\n",
              "\n",
              "    .dataframe thead th {\n",
              "        text-align: right;\n",
              "    }\n",
              "</style>\n",
              "<table border=\"1\" class=\"dataframe\">\n",
              "  <thead>\n",
              "    <tr style=\"text-align: right;\">\n",
              "      <th></th>\n",
              "      <th>number_of_dices</th>\n",
              "      <th>likelihood</th>\n",
              "      <th>unnorm</th>\n",
              "      <th>posterior</th>\n",
              "    </tr>\n",
              "  </thead>\n",
              "  <tbody>\n",
              "    <tr>\n",
              "      <th>0</th>\n",
              "      <td>6</td>\n",
              "      <td>0.17</td>\n",
              "      <td>1.02</td>\n",
              "      <td>0.27</td>\n",
              "    </tr>\n",
              "    <tr>\n",
              "      <th>1</th>\n",
              "      <td>3</td>\n",
              "      <td>0.85</td>\n",
              "      <td>2.55</td>\n",
              "      <td>0.69</td>\n",
              "    </tr>\n",
              "    <tr>\n",
              "      <th>2</th>\n",
              "      <td>3</td>\n",
              "      <td>0.05</td>\n",
              "      <td>0.15</td>\n",
              "      <td>0.04</td>\n",
              "    </tr>\n",
              "  </tbody>\n",
              "</table>\n",
              "</div>\n",
              "      <button class=\"colab-df-convert\" onclick=\"convertToInteractive('df-0839247c-1bf6-4220-9fb0-4cdbb4fa0bb0')\"\n",
              "              title=\"Convert this dataframe to an interactive table.\"\n",
              "              style=\"display:none;\">\n",
              "        \n",
              "  <svg xmlns=\"http://www.w3.org/2000/svg\" height=\"24px\"viewBox=\"0 0 24 24\"\n",
              "       width=\"24px\">\n",
              "    <path d=\"M0 0h24v24H0V0z\" fill=\"none\"/>\n",
              "    <path d=\"M18.56 5.44l.94 2.06.94-2.06 2.06-.94-2.06-.94-.94-2.06-.94 2.06-2.06.94zm-11 1L8.5 8.5l.94-2.06 2.06-.94-2.06-.94L8.5 2.5l-.94 2.06-2.06.94zm10 10l.94 2.06.94-2.06 2.06-.94-2.06-.94-.94-2.06-.94 2.06-2.06.94z\"/><path d=\"M17.41 7.96l-1.37-1.37c-.4-.4-.92-.59-1.43-.59-.52 0-1.04.2-1.43.59L10.3 9.45l-7.72 7.72c-.78.78-.78 2.05 0 2.83L4 21.41c.39.39.9.59 1.41.59.51 0 1.02-.2 1.41-.59l7.78-7.78 2.81-2.81c.8-.78.8-2.07 0-2.86zM5.41 20L4 18.59l7.72-7.72 1.47 1.35L5.41 20z\"/>\n",
              "  </svg>\n",
              "      </button>\n",
              "      \n",
              "  <style>\n",
              "    .colab-df-container {\n",
              "      display:flex;\n",
              "      flex-wrap:wrap;\n",
              "      gap: 12px;\n",
              "    }\n",
              "\n",
              "    .colab-df-convert {\n",
              "      background-color: #E8F0FE;\n",
              "      border: none;\n",
              "      border-radius: 50%;\n",
              "      cursor: pointer;\n",
              "      display: none;\n",
              "      fill: #1967D2;\n",
              "      height: 32px;\n",
              "      padding: 0 0 0 0;\n",
              "      width: 32px;\n",
              "    }\n",
              "\n",
              "    .colab-df-convert:hover {\n",
              "      background-color: #E2EBFA;\n",
              "      box-shadow: 0px 1px 2px rgba(60, 64, 67, 0.3), 0px 1px 3px 1px rgba(60, 64, 67, 0.15);\n",
              "      fill: #174EA6;\n",
              "    }\n",
              "\n",
              "    [theme=dark] .colab-df-convert {\n",
              "      background-color: #3B4455;\n",
              "      fill: #D2E3FC;\n",
              "    }\n",
              "\n",
              "    [theme=dark] .colab-df-convert:hover {\n",
              "      background-color: #434B5C;\n",
              "      box-shadow: 0px 1px 3px 1px rgba(0, 0, 0, 0.15);\n",
              "      filter: drop-shadow(0px 1px 2px rgba(0, 0, 0, 0.3));\n",
              "      fill: #FFFFFF;\n",
              "    }\n",
              "  </style>\n",
              "\n",
              "      <script>\n",
              "        const buttonEl =\n",
              "          document.querySelector('#df-0839247c-1bf6-4220-9fb0-4cdbb4fa0bb0 button.colab-df-convert');\n",
              "        buttonEl.style.display =\n",
              "          google.colab.kernel.accessAllowed ? 'block' : 'none';\n",
              "\n",
              "        async function convertToInteractive(key) {\n",
              "          const element = document.querySelector('#df-0839247c-1bf6-4220-9fb0-4cdbb4fa0bb0');\n",
              "          const dataTable =\n",
              "            await google.colab.kernel.invokeFunction('convertToInteractive',\n",
              "                                                     [key], {});\n",
              "          if (!dataTable) return;\n",
              "\n",
              "          const docLinkHtml = 'Like what you see? Visit the ' +\n",
              "            '<a target=\"_blank\" href=https://colab.research.google.com/notebooks/data_table.ipynb>data table notebook</a>'\n",
              "            + ' to learn more about interactive tables.';\n",
              "          element.innerHTML = '';\n",
              "          dataTable['output_type'] = 'display_data';\n",
              "          await google.colab.output.renderOutput(dataTable, element);\n",
              "          const docLink = document.createElement('div');\n",
              "          docLink.innerHTML = docLinkHtml;\n",
              "          element.appendChild(docLink);\n",
              "        }\n",
              "      </script>\n",
              "    </div>\n",
              "  </div>\n",
              "  "
            ],
            "text/plain": [
              "   number_of_dices  likelihood  unnorm  posterior\n",
              "0                6        0.17    1.02       0.27\n",
              "1                3        0.85    2.55       0.69\n",
              "2                3        0.05    0.15       0.04"
            ]
          },
          "metadata": {},
          "execution_count": 7
        }
      ]
    },
    {
      "cell_type": "code",
      "source": [
        "print(f'Probability that it is of type b, given that it gives a 6: {dices_df.posterior[1] * 100}%')"
      ],
      "metadata": {
        "colab": {
          "base_uri": "https://localhost:8080/"
        },
        "id": "z_Fnk6ZcMyDj",
        "outputId": "a52573e2-7b93-410a-9789-5a036459f314"
      },
      "execution_count": null,
      "outputs": [
        {
          "output_type": "stream",
          "name": "stdout",
          "text": [
            "Probability that it is of type b, given that it gives a 6: 69.0%\n"
          ]
        }
      ]
    }
  ]
}